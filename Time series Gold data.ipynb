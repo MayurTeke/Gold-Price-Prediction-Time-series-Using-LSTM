{
 "cells": [
  {
   "cell_type": "markdown",
   "id": "bd82b478",
   "metadata": {},
   "source": [
    "# Gold Price Prediction (Time series) Using LSTM"
   ]
  },
  {
   "cell_type": "markdown",
   "id": "2fd65222",
   "metadata": {},
   "source": [
    "# Read data"
   ]
  },
  {
   "cell_type": "code",
   "execution_count": 1,
   "id": "0c586dca",
   "metadata": {},
   "outputs": [],
   "source": [
    "from warnings import filterwarnings\n",
    "filterwarnings(\"ignore\")\n",
    "import pandas as mt\n",
    "A = mt.read_csv(\"C:/Users/SHREE/Desktop/Data/monthly.csv\")"
   ]
  },
  {
   "cell_type": "markdown",
   "id": "f99303be",
   "metadata": {},
   "source": [
    "# Preview"
   ]
  },
  {
   "cell_type": "code",
   "execution_count": 2,
   "id": "002177d2",
   "metadata": {},
   "outputs": [
    {
     "data": {
      "text/html": [
       "<div>\n",
       "<style scoped>\n",
       "    .dataframe tbody tr th:only-of-type {\n",
       "        vertical-align: middle;\n",
       "    }\n",
       "\n",
       "    .dataframe tbody tr th {\n",
       "        vertical-align: top;\n",
       "    }\n",
       "\n",
       "    .dataframe thead th {\n",
       "        text-align: right;\n",
       "    }\n",
       "</style>\n",
       "<table border=\"1\" class=\"dataframe\">\n",
       "  <thead>\n",
       "    <tr style=\"text-align: right;\">\n",
       "      <th></th>\n",
       "      <th>Date</th>\n",
       "      <th>Price</th>\n",
       "    </tr>\n",
       "  </thead>\n",
       "  <tbody>\n",
       "    <tr>\n",
       "      <th>0</th>\n",
       "      <td>1950-01</td>\n",
       "      <td>34.73</td>\n",
       "    </tr>\n",
       "    <tr>\n",
       "      <th>1</th>\n",
       "      <td>1950-02</td>\n",
       "      <td>34.73</td>\n",
       "    </tr>\n",
       "    <tr>\n",
       "      <th>2</th>\n",
       "      <td>1950-03</td>\n",
       "      <td>34.73</td>\n",
       "    </tr>\n",
       "    <tr>\n",
       "      <th>3</th>\n",
       "      <td>1950-04</td>\n",
       "      <td>34.73</td>\n",
       "    </tr>\n",
       "    <tr>\n",
       "      <th>4</th>\n",
       "      <td>1950-05</td>\n",
       "      <td>34.73</td>\n",
       "    </tr>\n",
       "  </tbody>\n",
       "</table>\n",
       "</div>"
      ],
      "text/plain": [
       "      Date  Price\n",
       "0  1950-01  34.73\n",
       "1  1950-02  34.73\n",
       "2  1950-03  34.73\n",
       "3  1950-04  34.73\n",
       "4  1950-05  34.73"
      ]
     },
     "execution_count": 2,
     "metadata": {},
     "output_type": "execute_result"
    }
   ],
   "source": [
    "A.head()"
   ]
  },
  {
   "cell_type": "markdown",
   "id": "630d23aa",
   "metadata": {},
   "source": [
    "# Missing data"
   ]
  },
  {
   "cell_type": "code",
   "execution_count": 3,
   "id": "c1576d0a",
   "metadata": {},
   "outputs": [
    {
     "name": "stdout",
     "output_type": "stream",
     "text": [
      "<class 'pandas.core.frame.DataFrame'>\n",
      "RangeIndex: 833 entries, 0 to 832\n",
      "Data columns (total 2 columns):\n",
      " #   Column  Non-Null Count  Dtype  \n",
      "---  ------  --------------  -----  \n",
      " 0   Date    833 non-null    object \n",
      " 1   Price   833 non-null    float64\n",
      "dtypes: float64(1), object(1)\n",
      "memory usage: 13.1+ KB\n"
     ]
    }
   ],
   "source": [
    "A.info()"
   ]
  },
  {
   "cell_type": "markdown",
   "id": "ed54a05f",
   "metadata": {},
   "source": [
    "# Get Gold price"
   ]
  },
  {
   "cell_type": "code",
   "execution_count": 4,
   "id": "5d0814e7",
   "metadata": {},
   "outputs": [],
   "source": [
    "trd = A[[\"Price\"]].values"
   ]
  },
  {
   "cell_type": "code",
   "execution_count": 5,
   "id": "0baf881f",
   "metadata": {},
   "outputs": [],
   "source": [
    "import numpy as pd\n",
    "#pd.array(A[[\"Price\"]])"
   ]
  },
  {
   "cell_type": "markdown",
   "id": "51eae1e5",
   "metadata": {},
   "source": [
    "# Preprocessing"
   ]
  },
  {
   "cell_type": "code",
   "execution_count": 6,
   "id": "f077d50c",
   "metadata": {},
   "outputs": [],
   "source": [
    "from sklearn.preprocessing import MinMaxScaler\n",
    "mm = MinMaxScaler()\n",
    "trd = mm.fit_transform(trd)"
   ]
  },
  {
   "cell_type": "markdown",
   "id": "9b40f538",
   "metadata": {},
   "source": [
    "# Create data in training and testing"
   ]
  },
  {
   "cell_type": "code",
   "execution_count": 7,
   "id": "3ff5a8dd",
   "metadata": {},
   "outputs": [],
   "source": [
    "xtrain = []\n",
    "ytrain = []\n",
    "for i in range(50,833,1):\n",
    "    xtrain.append(trd[i-50:i])\n",
    "    ytrain.append(trd[i:i+1])"
   ]
  },
  {
   "cell_type": "markdown",
   "id": "0b2eb65e",
   "metadata": {},
   "source": [
    "# Convert into array"
   ]
  },
  {
   "cell_type": "code",
   "execution_count": 8,
   "id": "c8bce045",
   "metadata": {},
   "outputs": [],
   "source": [
    "xtr = pd.array(xtrain)"
   ]
  },
  {
   "cell_type": "code",
   "execution_count": 9,
   "id": "b24ebe85",
   "metadata": {},
   "outputs": [
    {
     "data": {
      "text/plain": [
       "(783, 50, 1)"
      ]
     },
     "execution_count": 9,
     "metadata": {},
     "output_type": "execute_result"
    }
   ],
   "source": [
    "xtr.shape"
   ]
  },
  {
   "cell_type": "code",
   "execution_count": 10,
   "id": "b125e5e9",
   "metadata": {},
   "outputs": [],
   "source": [
    "ytr = pd.array(ytrain)"
   ]
  },
  {
   "cell_type": "code",
   "execution_count": 11,
   "id": "369aed54",
   "metadata": {},
   "outputs": [
    {
     "data": {
      "text/plain": [
       "(783, 1, 1)"
      ]
     },
     "execution_count": 11,
     "metadata": {},
     "output_type": "execute_result"
    }
   ],
   "source": [
    "ytr.shape"
   ]
  },
  {
   "cell_type": "markdown",
   "id": "54cc1049",
   "metadata": {},
   "source": [
    "# Create NN"
   ]
  },
  {
   "cell_type": "code",
   "execution_count": 12,
   "id": "66098860",
   "metadata": {},
   "outputs": [],
   "source": [
    "from keras.models import Sequential\n",
    "from keras.layers import LSTM,Dense"
   ]
  },
  {
   "cell_type": "code",
   "execution_count": 13,
   "id": "189fe0ee",
   "metadata": {},
   "outputs": [],
   "source": [
    "nn = Sequential()\n",
    "nn.add(LSTM(50,return_sequences=True,input_shape=(50,1)))\n",
    "nn.add(LSTM(100,return_sequences=True))\n",
    "nn.add(Dense(1))"
   ]
  },
  {
   "cell_type": "code",
   "execution_count": 14,
   "id": "42b50df2",
   "metadata": {},
   "outputs": [
    {
     "name": "stdout",
     "output_type": "stream",
     "text": [
      "Epoch 1/10\n",
      "25/25 [==============================] - 8s 65ms/step - loss: 0.0259\n",
      "Epoch 2/10\n",
      "25/25 [==============================] - 2s 64ms/step - loss: 0.0146\n",
      "Epoch 3/10\n",
      "25/25 [==============================] - 1s 53ms/step - loss: 0.0124\n",
      "Epoch 4/10\n",
      "25/25 [==============================] - 1s 57ms/step - loss: 0.0118\n",
      "Epoch 5/10\n",
      "25/25 [==============================] - 2s 66ms/step - loss: 0.0115\n",
      "Epoch 6/10\n",
      "25/25 [==============================] - 2s 66ms/step - loss: 0.0113\n",
      "Epoch 7/10\n",
      "25/25 [==============================] - 2s 69ms/step - loss: 0.0106\n",
      "Epoch 8/10\n",
      "25/25 [==============================] - 2s 71ms/step - loss: 0.0109\n",
      "Epoch 9/10\n",
      "25/25 [==============================] - 2s 69ms/step - loss: 0.0102\n",
      "Epoch 10/10\n",
      "25/25 [==============================] - 2s 66ms/step - loss: 0.0103\n"
     ]
    },
    {
     "data": {
      "text/plain": [
       "<keras.callbacks.History at 0x17e30fb5820>"
      ]
     },
     "execution_count": 14,
     "metadata": {},
     "output_type": "execute_result"
    }
   ],
   "source": [
    "nn.compile( optimizer='adam',loss=\"mean_squared_error\")\n",
    "nn.fit(xtr,ytr,epochs=10)"
   ]
  },
  {
   "cell_type": "markdown",
   "id": "96d71c12",
   "metadata": {},
   "source": [
    "# Prediction"
   ]
  },
  {
   "cell_type": "code",
   "execution_count": 15,
   "id": "8dcdd595",
   "metadata": {},
   "outputs": [
    {
     "data": {
      "text/plain": [
       "array([[[0.08928732],\n",
       "        [0.10797545],\n",
       "        [0.10203373],\n",
       "        ...,\n",
       "        [0.00598643],\n",
       "        [0.00598122],\n",
       "        [0.00598175]],\n",
       "\n",
       "       [[0.08928732],\n",
       "        [0.10797545],\n",
       "        [0.10203373],\n",
       "        ...,\n",
       "        [0.00598463],\n",
       "        [0.00598489],\n",
       "        [0.00599211]],\n",
       "\n",
       "       [[0.08928732],\n",
       "        [0.10797545],\n",
       "        [0.10203373],\n",
       "        ...,\n",
       "        [0.00598829],\n",
       "        [0.00599524],\n",
       "        [0.00601752]],\n",
       "\n",
       "       ...,\n",
       "\n",
       "       [[0.22503634],\n",
       "        [0.43401077],\n",
       "        [0.60055816],\n",
       "        ...,\n",
       "        [0.6707567 ],\n",
       "        [0.6814941 ],\n",
       "        [0.69575334]],\n",
       "\n",
       "       [[0.2229329 ],\n",
       "        [0.4251933 ],\n",
       "        [0.5922606 ],\n",
       "        ...,\n",
       "        [0.68149674],\n",
       "        [0.69575536],\n",
       "        [0.7062774 ]],\n",
       "\n",
       "       [[0.21712014],\n",
       "        [0.41924545],\n",
       "        [0.58754086],\n",
       "        ...,\n",
       "        [0.695758  ],\n",
       "        [0.7062795 ],\n",
       "        [0.7108108 ]]], dtype=float32)"
      ]
     },
     "execution_count": 15,
     "metadata": {},
     "output_type": "execute_result"
    }
   ],
   "source": [
    "nn.predict(xtr)"
   ]
  },
  {
   "cell_type": "code",
   "execution_count": 16,
   "id": "bdd3b15d",
   "metadata": {},
   "outputs": [],
   "source": [
    "w = nn.predict(xtr[782:783])"
   ]
  },
  {
   "cell_type": "code",
   "execution_count": 17,
   "id": "6d6ffa39",
   "metadata": {},
   "outputs": [],
   "source": [
    "w = w.reshape(50,1)"
   ]
  },
  {
   "cell_type": "code",
   "execution_count": 18,
   "id": "1dd33c4a",
   "metadata": {},
   "outputs": [
    {
     "data": {
      "text/plain": [
       "array([[ 413.61606],\n",
       "       [ 766.5587 ],\n",
       "       [1060.4291 ],\n",
       "       [1245.2922 ],\n",
       "       [1312.9731 ],\n",
       "       [1300.2058 ],\n",
       "       [1253.0931 ],\n",
       "       [1208.7002 ],\n",
       "       [1164.4154 ],\n",
       "       [1128.694  ],\n",
       "       [1111.5066 ],\n",
       "       [1126.1788 ],\n",
       "       [1161.9626 ],\n",
       "       [1198.0677 ],\n",
       "       [1228.7863 ],\n",
       "       [1251.4409 ],\n",
       "       [1276.169  ],\n",
       "       [1295.5151 ],\n",
       "       [1304.2948 ],\n",
       "       [1294.6406 ],\n",
       "       [1273.313  ],\n",
       "       [1235.2695 ],\n",
       "       [1206.6139 ],\n",
       "       [1196.8224 ],\n",
       "       [1198.0651 ],\n",
       "       [1211.3439 ],\n",
       "       [1223.0713 ],\n",
       "       [1234.3674 ],\n",
       "       [1237.6503 ],\n",
       "       [1245.0753 ],\n",
       "       [1258.9817 ],\n",
       "       [1265.5214 ],\n",
       "       [1267.474  ],\n",
       "       [1263.2716 ],\n",
       "       [1269.7069 ],\n",
       "       [1279.3604 ],\n",
       "       [1286.557  ],\n",
       "       [1292.5172 ],\n",
       "       [1290.2279 ],\n",
       "       [1280.5979 ],\n",
       "       [1261.6578 ],\n",
       "       [1236.4374 ],\n",
       "       [1214.1287 ],\n",
       "       [1201.6632 ],\n",
       "       [1198.3175 ],\n",
       "       [1205.7499 ],\n",
       "       [1224.4966 ],\n",
       "       [1249.3936 ],\n",
       "       [1267.7654 ],\n",
       "       [1275.6779 ]], dtype=float32)"
      ]
     },
     "execution_count": 18,
     "metadata": {},
     "output_type": "execute_result"
    }
   ],
   "source": [
    "mm.inverse_transform(w)"
   ]
  },
  {
   "cell_type": "code",
   "execution_count": null,
   "id": "b9f22421",
   "metadata": {},
   "outputs": [],
   "source": []
  }
 ],
 "metadata": {
  "kernelspec": {
   "display_name": "Python 3 (ipykernel)",
   "language": "python",
   "name": "python3"
  },
  "language_info": {
   "codemirror_mode": {
    "name": "ipython",
    "version": 3
   },
   "file_extension": ".py",
   "mimetype": "text/x-python",
   "name": "python",
   "nbconvert_exporter": "python",
   "pygments_lexer": "ipython3",
   "version": "3.8.13"
  }
 },
 "nbformat": 4,
 "nbformat_minor": 5
}
